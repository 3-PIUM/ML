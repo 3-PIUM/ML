{
  "nbformat": 4,
  "nbformat_minor": 0,
  "metadata": {
    "colab": {
      "provenance": []
    },
    "kernelspec": {
      "name": "python3",
      "display_name": "Python 3"
    },
    "language_info": {
      "name": "python"
    }
  },
  "cells": [
    {
      "cell_type": "code",
      "execution_count": 72,
      "metadata": {
        "id": "oXC7M_Blv6_F"
      },
      "outputs": [],
      "source": [
        "!pip install -q konlpy tqdm tensorflow"
      ]
    },
    {
      "cell_type": "code",
      "source": [
        "import os\n",
        "import pandas as pd\n",
        "import numpy as np\n",
        "import matplotlib.pyplot as plt\n",
        "import re\n",
        "import urllib.request\n",
        "from konlpy.tag import Okt\n",
        "from tqdm import tqdm\n",
        "from tensorflow.keras.preprocessing.text import Tokenizer\n",
        "from tensorflow.keras.preprocessing.sequence import pad_sequences\n",
        "import zipfile"
      ],
      "metadata": {
        "id": "DCOVOOANz88-"
      },
      "execution_count": 73,
      "outputs": []
    },
    {
      "cell_type": "code",
      "source": [
        "# KoNLPy 사용을 위한 JAVA 환경 변수 설정\n",
        "def set_java_environment():\n",
        "    # KoNLPy에서 JAVA 실행 환경 필요\n",
        "    os.environ[\"JAVA_HOME\"] = \"/usr/lib/jvm/java-11-openjdk-amd64\"\n",
        "    os.environ[\"PATH\"] = os.environ[\"JAVA_HOME\"] + \"/bin:\" + os.environ[\"PATH\"]\n",
        "    return"
      ],
      "metadata": {
        "id": "iOj9rFEZ0EDf"
      },
      "execution_count": 74,
      "outputs": []
    },
    {
      "cell_type": "code",
      "source": [
        "# zip 파일 압축 해제 함수 (구글 드라이브에 zip파일로 상품,리뷰csv파일 올렸렸음)\n",
        "def unzip_file(zip_path, extract_path):\n",
        "    import zipfile\n",
        "    with zipfile.ZipFile(zip_path, 'r') as zip_ref:\n",
        "        zip_ref.extractall(extract_path)\n",
        "    print(f\"압축 해제 완료: {extract_path}\")"
      ],
      "metadata": {
        "id": "jGMBuhlH0EtK"
      },
      "execution_count": 75,
      "outputs": []
    },
    {
      "cell_type": "code",
      "source": [
        "def load_and_filter_reviews(csv_path):\n",
        "    import pandas as pd\n",
        "    import re\n",
        "\n",
        "    df = pd.read_csv(csv_path)\n",
        "\n",
        "    # 사용할 주요 컬럼만 선택\n",
        "    df = df[[\"바코드\", \"상품분류코드\", \"상품명\", \"리뷰어\", \"평점\", \"옵션\", \"사용자 피부 정보\", \"본문\"]]\n",
        "\n",
        "    # 상품분류코드가 206, 207인 경우 삭제\n",
        "    df = df[~df[\"상품분류코드\"].isin([206, 207])].reset_index(drop=True)\n",
        "\n",
        "    # 상품분류코드가 201인 경우 블러셔 키워드 필터링\n",
        "    keywords = [\"블러쉬\", \"블러시\", \"블러셔\", \"치크\", \"치크밤\", \"립앤치크\"]\n",
        "    pattern = \"|\".join(keywords)\n",
        "\n",
        "    df = df[~(\n",
        "        (df[\"상품분류코드\"] == 201) &\n",
        "        (df[\"상품명\"].str.contains(pattern, case=False, na=False))\n",
        "    )].reset_index(drop=True)\n",
        "\n",
        "    print(f\"필터링된 리뷰 데이터 수: {len(df)}\")\n",
        "    return df\n"
      ],
      "metadata": {
        "id": "tyVfS4nCP5vw"
      },
      "execution_count": 76,
      "outputs": []
    },
    {
      "cell_type": "code",
      "source": [
        "import ast\n",
        "\n",
        "# 유효한 피부 타입 목록\n",
        "valid_skin_types = ['복합성', '건성', '트러블성', '지성', '민감성', '약건성', '중성']\n",
        "\n",
        "def preprocess_skin_type(df, column_name='사용자 피부 정보'):\n",
        "    \"\"\"\n",
        "    사용자 피부 정보가 문자열 또는 리스트 문자열 형태로 되어 있을 때\n",
        "    주요 피부 타입만 추출해 새로운 컬럼 '사용자 피부타입'을 추가한다.\n",
        "    \"\"\"\n",
        "\n",
        "    def parse_skin_info(value):\n",
        "        if pd.isnull(value) or value == '[]':\n",
        "            return []\n",
        "        try:\n",
        "            # 리스트 형태 문자열이면 리스트로 변환\n",
        "            parsed = ast.literal_eval(value)\n",
        "            if isinstance(parsed, list):\n",
        "                return [x.strip() for x in parsed]\n",
        "        except (ValueError, SyntaxError):\n",
        "            pass\n",
        "        # 일반 문자열이라면 ',' 기준으로 분리\n",
        "        return [x.strip() for x in value.split(',')]\n",
        "\n",
        "    def extract_main_skin_type(skin_info_list):\n",
        "        for skin in skin_info_list:\n",
        "            if skin in valid_skin_types:\n",
        "                return skin\n",
        "        return None\n",
        "\n",
        "    # 파싱 및 주요 피부타입 추출\n",
        "    df['사용자 피부 정보 리스트'] = df[column_name].apply(parse_skin_info)\n",
        "    df['사용자 피부타입'] = df['사용자 피부 정보 리스트'].apply(extract_main_skin_type)\n",
        "\n",
        "    return df\n"
      ],
      "metadata": {
        "id": "o4equq5SQ7Pf"
      },
      "execution_count": 77,
      "outputs": []
    },
    {
      "cell_type": "code",
      "source": [
        "def map_skin_types(df, column_name='사용자 피부타입'):\n",
        "    \"\"\"\n",
        "    사용자 피부타입 컬럼에 표준화 매핑을 적용하고,\n",
        "    매핑되지 않은 항목은 제거한다.\n",
        "    \"\"\"\n",
        "\n",
        "    # 피부타입 표준 매핑\n",
        "    mapping = {\n",
        "        '약건성': '건성',\n",
        "        '트러블성': '민감성',\n",
        "        '건성': '건성',\n",
        "        '민감성': '민감성',\n",
        "        '복합성': '복합성',\n",
        "        '지성': '지성',\n",
        "        '중성': '복합성'\n",
        "    }\n",
        "\n",
        "    # 매핑 적용\n",
        "    df[column_name] = df[column_name].map(mapping)\n",
        "\n",
        "    # 유효한 피부타입만 필터링\n",
        "    df = df[df[column_name].notnull()].reset_index(drop=True)\n",
        "\n",
        "    return df\n"
      ],
      "metadata": {
        "id": "GFHdSlEkRcvh"
      },
      "execution_count": 78,
      "outputs": []
    },
    {
      "cell_type": "code",
      "source": [
        "# 리뷰 본문 전처리 함수 정의\n",
        "def preprocess_text(text):\n",
        "    text = str(text)\n",
        "    text = re.sub(r'\\s+', ' ', text)\n",
        "    text = re.sub(r'[\\u200b\\u200c\\u200d\\ufeff]', '', text)\n",
        "    text = re.sub(r'[^\\w\\s가-힣❤️💕✨💖💗💘💓💞💝💜💙💚💛💬💥👍❗️👎☺️😂🤣😭😍😘]', '', text)\n",
        "    text = re.sub(r'(\\w)\\1{2,}', r'\\1\\1', text)\n",
        "    return text.strip()"
      ],
      "metadata": {
        "id": "DLuRknDoRSD5"
      },
      "execution_count": 79,
      "outputs": []
    },
    {
      "cell_type": "code",
      "source": [
        "# 본문 전처리 컬럼럼을 데이터프레임에 추가\n",
        "def add_clean_text_column(df):\n",
        "    df = df[df['본문'].notnull()].reset_index(drop=True)\n",
        "    df[\"본문_전처리\"] = df[\"본문\"].apply(preprocess_text)\n",
        "    return df"
      ],
      "metadata": {
        "id": "kE8AuezpRqMq"
      },
      "execution_count": 80,
      "outputs": []
    },
    {
      "cell_type": "code",
      "source": [
        "def create_review_dataframe(df, category):\n",
        "    \"\"\"\n",
        "    원본 DataFrame에서 '상품명', '사용자 피부타입', '본문_전처리' 컬럼만 추출하여\n",
        "    '상품명', '피부타입', '리뷰내용'으로 구성된 새 DataFrame을 반환하고 저장한다.\n",
        "    \"\"\"\n",
        "    review_df = pd.DataFrame({\n",
        "        '상품명': df['상품명'],\n",
        "        '피부타입': df['사용자 피부타입'],\n",
        "        '리뷰내용': df['본문_전처리']\n",
        "    })\n",
        "\n",
        "    save_path = f\"{category}_피부타입_리뷰.csv\"\n",
        "    review_df.to_csv(save_path, encoding=\"utf-8-sig\", index=False)\n",
        "    print(f\"저장 완료: {save_path}\")\n",
        "\n",
        "    return review_df\n"
      ],
      "metadata": {
        "id": "NRva1sQHRwll"
      },
      "execution_count": 81,
      "outputs": []
    },
    {
      "cell_type": "code",
      "source": [
        "# 제품 정보 병합 및 카테고리 매핑\n",
        "def merge_product_info(df_reviews, df_product_info):\n",
        "    category_map = {\n",
        "        \"0113\": \"스킨/토너\", \"0114\": \"에센스/세럼/앰플\", \"0115\": \"크림\",\n",
        "        \"0116\": \"로션\", \"0110\": \"미스트/오일\", \"0117\": \"스킨케어세트\", \"0118\": \"스킨케어 디바이스\",\n",
        "        \"1001\": \"클렌징폼/젤\", \"1004\": \"오일/밤\", \"1005\": \"워터/밀크\", \"1007\": \"필링&스크럽\",\n",
        "        \"1008\": \"티슈/패드\", \"1006\": \"립&아이리무버\", \"1009\": \"클렌징 디바이스\",\n",
        "        \"0901\": \"시트팩\", \"0904\": \"패드\", \"0902\": \"페이셜팩\", \"0905\": \"코팩\", \"0906\": \"패치\",\n",
        "        \"0206\": \"립메이크업\", \"0201\": \"베이스메이크업\", \"0207\": \"아이메이크업\",\n",
        "        \"1106\": \"선크림\", \"1103\": \"선스틱\", \"1104\": \"선쿠션\", \"1105\": \"선스프레이/선패치\", \"1102\": \"태닝/애프터선\"\n",
        "    }\n",
        "\n",
        "    df_merged = df_reviews.merge(\n",
        "        df_product_info[[\"상품명\", \"바코드\", \"상품분류코드\", '비건품목']],\n",
        "        on=\"상품명\",\n",
        "        how=\"left\"\n",
        "    )\n",
        "    df_merged['품목'] = df_merged['상품분류코드'].astype(str).map(category_map)\n",
        "    return df_merged\n"
      ],
      "metadata": {
        "id": "2Fluf_gITRyo"
      },
      "execution_count": 82,
      "outputs": []
    },
    {
      "cell_type": "code",
      "source": [
        "def run_pipeline(category, review_path, product_path):\n",
        "    print(f\"\\n====== [{category}] 파이프라인 시작 ======\")\n",
        "\n",
        "    # 1. 리뷰 데이터 로드 및 전처리\n",
        "    df = load_and_filter_reviews(review_path)\n",
        "    df = preprocess_skin_type(df)\n",
        "    df = map_skin_types(df)\n",
        "    df = add_clean_text_column(df)\n",
        "    df_new = create_review_dataframe(df, category)\n",
        "\n",
        "    # 결측치 제거\n",
        "    df_new = df_new[df_new['피부타입'].notna()].reset_index(drop=True)\n",
        "\n",
        "    # 2. 제품 정보 불러오기 및 병합\n",
        "    df_products = pd.read_csv(product_path, dtype={\"상품분류코드\": str})\n",
        "    df_final = merge_product_info(df_new, df_products)\n",
        "\n",
        "    # 3. 저장\n",
        "    output_path = f\"{category}_RAG_데이터.csv\"\n",
        "    df_final.to_csv(output_path, encoding=\"utf-8-sig\", index=False)\n",
        "    print(f\"[{category}] 저장 완료: {output_path}\")"
      ],
      "metadata": {
        "id": "MwjNUIBT6wo9"
      },
      "execution_count": 83,
      "outputs": []
    },
    {
      "cell_type": "code",
      "source": [
        "# 전체 실행\n",
        "def run_all_pipelines(review_paths, product_paths):\n",
        "    for category in review_paths:\n",
        "        run_pipeline(category, review_paths[category], product_paths[category])"
      ],
      "metadata": {
        "id": "NX_laG2qjYm8"
      },
      "execution_count": 84,
      "outputs": []
    },
    {
      "cell_type": "code",
      "source": [
        "set_java_environment()\n",
        "\n",
        "# 압축 파일 경로들\n",
        "zip_paths = {\n",
        "    '스킨케어': {\n",
        "        'review': '/content/drive/MyDrive/한경x토스/프로젝트/최종 프로젝트/data/[최종]스킨케어_바코드_리뷰_전처리.zip',\n",
        "        'product': '/content/drive/MyDrive/한경x토스/프로젝트/최종 프로젝트/data/[최종]스킨케어_바코드_상품_전처리.zip',\n",
        "    },\n",
        "    '메이크업': {\n",
        "        'review': '/content/drive/MyDrive/한경x토스/프로젝트/최종 프로젝트/data/[최종]메이크업_바코드_리뷰_전처리.zip',\n",
        "        'product': '/content/drive/MyDrive/한경x토스/프로젝트/최종 프로젝트/data/[최종]메이크업_바코드_상품_전처리.zip',\n",
        "    },\n",
        "    '선케어': {\n",
        "        'review': '/content/drive/MyDrive/한경x토스/프로젝트/최종 프로젝트/data/[최종]선케어_바코드_리뷰_전처리.zip',\n",
        "        'product': '/content/drive/MyDrive/한경x토스/프로젝트/최종 프로젝트/data/[최종]선케어_바코드_상품_전처리.zip',\n",
        "    },\n",
        "    '마스크팩': {\n",
        "        'review': '/content/drive/MyDrive/한경x토스/프로젝트/최종 프로젝트/data/[최종]마스크팩_바코드_리뷰_전처리.zip',\n",
        "        'product': '/content/drive/MyDrive/한경x토스/프로젝트/최종 프로젝트/data/[최종]마스크팩_바코드_상품_전처리.zip',\n",
        "    },\n",
        "    '클렌징': {\n",
        "        'review': '/content/drive/MyDrive/한경x토스/프로젝트/최종 프로젝트/data/[최종]클렌징_바코드_리뷰_전처리.zip',\n",
        "        'product': '/content/drive/MyDrive/한경x토스/프로젝트/최종 프로젝트/data/[최종]클렌징_바코드_상품_전처리.zip',\n",
        "    }\n",
        "}\n",
        "\n",
        "# 압축 해제 경로\n",
        "extract_path = '/content/skin_data'\n",
        "\n",
        "# zip 해제\n",
        "for category, paths in zip_paths.items():\n",
        "    unzip_file(paths['review'], extract_path)\n",
        "    unzip_file(paths['product'], extract_path)\n",
        "\n",
        "# 해제된 CSV 경로 정의\n",
        "review_paths = {\n",
        "    category: f\"{extract_path}/[최종]{category}_바코드_리뷰_전처리.csv\"\n",
        "    for category in zip_paths\n",
        "}\n",
        "\n",
        "product_paths = {\n",
        "    category: f\"{extract_path}/[최종]{category}_바코드_상품_전처리.csv\"\n",
        "    for category in zip_paths\n",
        "}\n",
        "\n",
        "run_all_pipelines(review_paths, product_paths)"
      ],
      "metadata": {
        "colab": {
          "base_uri": "https://localhost:8080/"
        },
        "id": "N93k-9bljZiy",
        "outputId": "e798f527-3b89-4f7a-827a-96d2929e58d0"
      },
      "execution_count": 85,
      "outputs": [
        {
          "output_type": "stream",
          "name": "stdout",
          "text": [
            "압축 해제 완료: /content/skin_data\n",
            "압축 해제 완료: /content/skin_data\n",
            "압축 해제 완료: /content/skin_data\n",
            "압축 해제 완료: /content/skin_data\n",
            "압축 해제 완료: /content/skin_data\n",
            "압축 해제 완료: /content/skin_data\n",
            "압축 해제 완료: /content/skin_data\n",
            "압축 해제 완료: /content/skin_data\n",
            "압축 해제 완료: /content/skin_data\n",
            "압축 해제 완료: /content/skin_data\n",
            "\n",
            "====== [스킨케어] 파이프라인 시작 ======\n"
          ]
        },
        {
          "output_type": "stream",
          "name": "stderr",
          "text": [
            "<ipython-input-76-341517490>:5: DtypeWarning: Columns (6,8,10,11,12,13,14,15,16,17,18,19) have mixed types. Specify dtype option on import or set low_memory=False.\n",
            "  df = pd.read_csv(csv_path)\n"
          ]
        },
        {
          "output_type": "stream",
          "name": "stdout",
          "text": [
            "필터링된 리뷰 데이터 수: 1119488\n",
            "저장 완료: 스킨케어_피부타입_리뷰.csv\n",
            "[스킨케어] 저장 완료: 스킨케어_RAG_데이터.csv\n",
            "\n",
            "====== [메이크업] 파이프라인 시작 ======\n"
          ]
        },
        {
          "output_type": "stream",
          "name": "stderr",
          "text": [
            "<ipython-input-76-341517490>:5: DtypeWarning: Columns (8,13,14,15,16,17,18,19,20,21,22,23,24,25,26,27) have mixed types. Specify dtype option on import or set low_memory=False.\n",
            "  df = pd.read_csv(csv_path)\n"
          ]
        },
        {
          "output_type": "stream",
          "name": "stdout",
          "text": [
            "필터링된 리뷰 데이터 수: 290319\n",
            "저장 완료: 메이크업_피부타입_리뷰.csv\n",
            "[메이크업] 저장 완료: 메이크업_RAG_데이터.csv\n",
            "\n",
            "====== [선케어] 파이프라인 시작 ======\n"
          ]
        },
        {
          "output_type": "stream",
          "name": "stderr",
          "text": [
            "<ipython-input-76-341517490>:5: DtypeWarning: Columns (8) have mixed types. Specify dtype option on import or set low_memory=False.\n",
            "  df = pd.read_csv(csv_path)\n"
          ]
        },
        {
          "output_type": "stream",
          "name": "stdout",
          "text": [
            "필터링된 리뷰 데이터 수: 242922\n",
            "저장 완료: 선케어_피부타입_리뷰.csv\n",
            "[선케어] 저장 완료: 선케어_RAG_데이터.csv\n",
            "\n",
            "====== [마스크팩] 파이프라인 시작 ======\n"
          ]
        },
        {
          "output_type": "stream",
          "name": "stderr",
          "text": [
            "<ipython-input-76-341517490>:5: DtypeWarning: Columns (10,11,12,13,14) have mixed types. Specify dtype option on import or set low_memory=False.\n",
            "  df = pd.read_csv(csv_path)\n"
          ]
        },
        {
          "output_type": "stream",
          "name": "stdout",
          "text": [
            "필터링된 리뷰 데이터 수: 618994\n",
            "저장 완료: 마스크팩_피부타입_리뷰.csv\n",
            "[마스크팩] 저장 완료: 마스크팩_RAG_데이터.csv\n",
            "\n",
            "====== [클렌징] 파이프라인 시작 ======\n",
            "필터링된 리뷰 데이터 수: 525503\n",
            "저장 완료: 클렌징_피부타입_리뷰.csv\n",
            "[클렌징] 저장 완료: 클렌징_RAG_데이터.csv\n"
          ]
        }
      ]
    }
  ]
}