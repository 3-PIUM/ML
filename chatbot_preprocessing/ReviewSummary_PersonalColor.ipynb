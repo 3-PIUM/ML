{
  "nbformat": 4,
  "nbformat_minor": 0,
  "metadata": {
    "colab": {
      "provenance": []
    },
    "kernelspec": {
      "name": "python3",
      "display_name": "Python 3"
    },
    "language_info": {
      "name": "python"
    }
  },
  "cells": [
    {
      "cell_type": "code",
      "source": [
        "!pip install -q konlpy tqdm tensorflow"
      ],
      "metadata": {
        "id": "3UZWhgTAc6MC"
      },
      "execution_count": 29,
      "outputs": []
    },
    {
      "cell_type": "code",
      "source": [
        "import os\n",
        "import pandas as pd\n",
        "import numpy as np\n",
        "import matplotlib.pyplot as plt\n",
        "import re\n",
        "import urllib.request\n",
        "from konlpy.tag import Okt\n",
        "from tqdm import tqdm\n",
        "from tensorflow.keras.preprocessing.text import Tokenizer\n",
        "from tensorflow.keras.preprocessing.sequence import pad_sequences\n",
        "import zipfile"
      ],
      "metadata": {
        "id": "CQ0lZD58dfV0"
      },
      "execution_count": 30,
      "outputs": []
    },
    {
      "cell_type": "code",
      "execution_count": 31,
      "metadata": {
        "id": "JFtEK-1Iab2A"
      },
      "outputs": [],
      "source": [
        "# KoNLPy 사용을 위한 JAVA 환경 변수 설정\n",
        "def set_java_environment():\n",
        "    # KoNLPy에서 JAVA 실행 환경 필요\n",
        "    os.environ[\"JAVA_HOME\"] = \"/usr/lib/jvm/java-11-openjdk-amd64\"\n",
        "    os.environ[\"PATH\"] = os.environ[\"JAVA_HOME\"] + \"/bin:\" + os.environ[\"PATH\"]\n",
        "    return"
      ]
    },
    {
      "cell_type": "code",
      "source": [
        "# zip 파일 압축 해제 함수 (구글 드라이브에 zip파일로 상품,리뷰csv파일 올렸렸음)\n",
        "def unzip_file(zip_path, extract_path):\n",
        "    import zipfile\n",
        "    with zipfile.ZipFile(zip_path, 'r') as zip_ref:\n",
        "        zip_ref.extractall(extract_path)\n",
        "    print(f\"압축 해제 완료: {extract_path}\")"
      ],
      "metadata": {
        "id": "adqc9UqHbYPM"
      },
      "execution_count": 32,
      "outputs": []
    },
    {
      "cell_type": "code",
      "source": [
        "# 데이터 로딩 및 전처리\n",
        "def load_and_filter_reviews(csv_path):\n",
        "    df = pd.read_csv(csv_path)\n",
        "\n",
        "    # 사용할 주요 컬럼만 선택\n",
        "    df = df[[\"category\",\"바코드\",\"상품분류코드\",\"상품명\", \"리뷰어\", \"평점\", \"옵션\", \"사용자 피부 정보\",\"본문\"]]\n",
        "\n",
        "    # 1. 립메이크업 + 아이메이크업 필터링\n",
        "    df_1 = df[df[\"category\"].isin([\"립메이크업\", \"아이메이크업\"])].reset_index(drop=True)\n",
        "\n",
        "    # 2. 베이스메이크업 중 '블러셔' 관련 키워드 포함 제품 필터링\n",
        "    keywords = [\"블러쉬\", \"블러시\", \"블러셔\", \"치크\", \"치크밤\", \"립앤치크\"]\n",
        "    pattern = \"|\".join(keywords)\n",
        "    df_2 = df[\n",
        "        (df[\"category\"] == \"베이스메이크업\") &\n",
        "        (df[\"상품명\"].str.contains(pattern, case=False, na=False))\n",
        "    ].reset_index(drop=True)\n",
        "\n",
        "    # 두 개의 데이터프레임을 병합\n",
        "    df = pd.concat([df_1, df_2], ignore_index=True)\n",
        "\n",
        "    print(f\"필터링된 리뷰 데이터 수: {len(df)}\")\n",
        "    return df"
      ],
      "metadata": {
        "id": "bXfpWLQsbn13"
      },
      "execution_count": 33,
      "outputs": []
    },
    {
      "cell_type": "code",
      "source": [
        "# 사용자 피부 정보 컬럼 분해\n",
        "def split_skin_info(df):\n",
        "    df_split = df[\"사용자 피부 정보\"].str.split(\",\", expand=True) # 최대 4개\n",
        "    df_split.columns = [f\"피부_{i+1}\" for i in range(df_split.shape[1])]\n",
        "    return pd.concat([df, df_split], axis=1)"
      ],
      "metadata": {
        "id": "y5ofm9dnbqZP"
      },
      "execution_count": 34,
      "outputs": []
    },
    {
      "cell_type": "code",
      "source": [
        "# 퍼스널 컬러 키워드별 컬럼 생성\n",
        "def create_personal_color_columns(df):\n",
        "    skin_tones = [\"쿨톤\", \"웜톤\", \"봄웜톤\", \"여름쿨톤\", \"가을웜톤\", \"겨울쿨톤\"]\n",
        "    for tone in skin_tones:\n",
        "        df[tone] = df[[\"피부_1\", \"피부_2\", \"피부_3\", \"피부_4\"]].apply(\n",
        "            lambda row: sum(tone == str(val).strip() for val in row if pd.notna(val)), axis=1\n",
        "        )\n",
        "    return df"
      ],
      "metadata": {
        "id": "mnMTXFoebyZz"
      },
      "execution_count": 35,
      "outputs": []
    },
    {
      "cell_type": "code",
      "source": [
        "# 리뷰 본문 전처리 함수 정의\n",
        "def preprocess_text(text):\n",
        "    text = str(text)\n",
        "    text = re.sub(r'\\s+', ' ', text)\n",
        "    text = re.sub(r'[\\u200b\\u200c\\u200d\\ufeff]', '', text)\n",
        "    text = re.sub(r'[^\\w\\s가-힣❤️💕✨💖💗💘💓💞💝💜💙💚💛💬💥👍❗️👎☺️😂🤣😭😍😘]', '', text)\n",
        "    text = re.sub(r'(\\w)\\1{2,}', r'\\1\\1', text)\n",
        "    return text.strip()"
      ],
      "metadata": {
        "id": "pHt37n0_b-EB"
      },
      "execution_count": 36,
      "outputs": []
    },
    {
      "cell_type": "code",
      "source": [
        "# 본문 전처리 컬럼럼을 데이터프레임에 추가\n",
        "def add_clean_text_column(df):\n",
        "    df = df[df['본문'].notnull()].reset_index(drop=True)\n",
        "    df[\"본문_전처리\"] = df[\"본문\"].apply(preprocess_text)\n",
        "    return df"
      ],
      "metadata": {
        "id": "EQe6ZRkecCSo"
      },
      "execution_count": 37,
      "outputs": []
    },
    {
      "cell_type": "code",
      "source": [
        "# 퍼스널 컬러 요약 함수\n",
        "def summarize_personal_color(df):\n",
        "    personal_color_cols = ['쿨톤', '웜톤', '봄웜톤', '여름쿨톤', '가을웜톤', '겨울쿨톤']\n",
        "\n",
        "    def get_personal_color(row): # 1인 칼럼을 가지고 와서 퍼스널컬러 칼럼에 넣음.\n",
        "        colors = [col for col in personal_color_cols if row[col] == 1]\n",
        "        if len(colors) == 1:\n",
        "            return colors[0]\n",
        "        elif len(colors) > 1:\n",
        "            return ','.join(colors)\n",
        "        else:\n",
        "            return None\n",
        "\n",
        "    df_new = pd.DataFrame({  # 새로운 DataFrame\n",
        "        '상품명': df['상품명'],\n",
        "        '옵션': df['옵션'],\n",
        "        '퍼스널 컬러': df.apply(get_personal_color, axis=1),\n",
        "        '리뷰내용': df['본문_전처리']\n",
        "    })\n",
        "    return df_new"
      ],
      "metadata": {
        "id": "z39-24DocHh8"
      },
      "execution_count": 38,
      "outputs": []
    },
    {
      "cell_type": "code",
      "source": [
        "# 상품명 + 옵션별 리뷰 수 집계\n",
        "def aggregate_option_reviews(df):\n",
        "    return (\n",
        "        df.groupby(['상품명', '옵션'])\n",
        "        .size()\n",
        "        .reset_index(name='리뷰수')\n",
        "        .sort_values(by='리뷰수', ascending=False)\n",
        "    )"
      ],
      "metadata": {
        "id": "JfEoowpMqtZU"
      },
      "execution_count": 39,
      "outputs": []
    },
    {
      "cell_type": "code",
      "source": [
        "# 제품 정보 병합 및 카테고리 매핑\n",
        "def merge_product_info(df_reviews, df_product_info):\n",
        "    category_map = {\n",
        "        \"0113\": \"스킨/토너\", \"0114\": \"에센스/세럼/앰플\", \"0115\": \"크림\",\n",
        "        \"0116\": \"로션\", \"0110\": \"미스트/오일\", \"0117\": \"스킨케어세트\", \"0118\": \"스킨케어 디바이스\",\n",
        "        \"1001\": \"클렌징폼/젤\", \"1004\": \"오일/밤\", \"1005\": \"워터/밀크\", \"1007\": \"필링&스크럽\",\n",
        "        \"1008\": \"티슈/패드\", \"1006\": \"립&아이리무버\", \"1009\": \"클렌징 디바이스\",\n",
        "        \"0901\": \"시트팩\", \"0904\": \"패드\", \"0902\": \"페이셜팩\", \"0905\": \"코팩\", \"0906\": \"패치\",\n",
        "        \"0206\": \"립메이크업\", \"0201\": \"베이스메이크업\", \"0207\": \"아이메이크업\",\n",
        "        \"1106\": \"선크림\", \"1103\": \"선스틱\", \"1104\": \"선쿠션\", \"1105\": \"선스프레이/선패치\", \"1102\": \"태닝/애프터선\"\n",
        "    }\n",
        "\n",
        "    df_merged = df_reviews.merge(\n",
        "        df_product_info[[\"상품명\", \"바코드\", \"상품분류코드\", '비건품목']],\n",
        "        on=\"상품명\",\n",
        "        how=\"left\"\n",
        "    )\n",
        "    df_merged['품목'] = df_merged['상품분류코드'].astype(str).map(category_map)\n",
        "    return df_merged\n"
      ],
      "metadata": {
        "id": "FZMw4cdrcgT4"
      },
      "execution_count": 40,
      "outputs": []
    },
    {
      "cell_type": "code",
      "source": [
        "def run_pipeline():\n",
        "    # 경로 설정\n",
        "    zip_review_path = '/content/drive/MyDrive/한경x토스/프로젝트/최종 프로젝트/[최종]메이크업_바코드_리뷰_전처리.zip'\n",
        "    zip_product_path = '/content/drive/MyDrive/한경x토스/프로젝트/최종 프로젝트/[최종]메이크업_바코드_상품_전처리.zip'\n",
        "    extract_path = '/content/skin_data'\n",
        "\n",
        "    # 압축 해제\n",
        "    unzip_file(zip_review_path, extract_path)\n",
        "    unzip_file(zip_product_path, extract_path)\n",
        "\n",
        "    ### 1. 립/아이/블러셔용 전처리 (퍼스널컬러 중심 분석)\n",
        "    df = load_and_filter_reviews(f\"{extract_path}/[최종]메이크업_바코드_리뷰_전처리.csv\")\n",
        "    df = split_skin_info(df)\n",
        "    df = create_personal_color_columns(df)\n",
        "    df = add_clean_text_column(df)\n",
        "    df_new = summarize_personal_color(df)\n",
        "\n",
        "    # 퍼스널컬러 결측치 제거\n",
        "    df_new = df_new[df_new['퍼스널 컬러'].notna()].reset_index(drop=True)\n",
        "\n",
        "    option_counts_df = aggregate_option_reviews(df_new)\n",
        "    print(\"립/아이/블러셔 리뷰 수 집계:\")\n",
        "    print(option_counts_df)\n",
        "\n",
        "    df_new.to_csv(\"메이크업_립&아이&블러셔_옵션과_퍼스널컬러별_요약.csv\", encoding=\"utf-8-sig\", index=False)\n",
        "\n",
        "    ### 2. 제품 정보 불러오기 및 병합\n",
        "    df_products = pd.read_csv(f\"{extract_path}/[최종]메이크업_바코드_상품_전처리.csv\", dtype={\"상품분류코드\": str})\n",
        "    df_final = merge_product_info(df_new, df_products)\n",
        "    df_final.to_csv(\"메이크업(립&아이&블러셔)_RAG_데이터.csv\", encoding=\"utf-8-sig\", index=False)\n",
        "\n",
        "    print(\"전체 파이프라인 실행 및 모든 데이터 저장 완료\")\n"
      ],
      "metadata": {
        "id": "-SZQpUEEcm38"
      },
      "execution_count": 43,
      "outputs": []
    },
    {
      "cell_type": "code",
      "source": [
        "# 실행 (구글 드라이브 연결 하고 시작)\n",
        "set_java_environment()\n",
        "run_pipeline()"
      ],
      "metadata": {
        "colab": {
          "base_uri": "https://localhost:8080/"
        },
        "id": "OfAdgbkqctsR",
        "outputId": "a0e09bd1-5404-4dd9-c1c8-17214344cb90"
      },
      "execution_count": 44,
      "outputs": [
        {
          "output_type": "stream",
          "name": "stdout",
          "text": [
            "압축 해제 완료: /content/skin_data\n",
            "압축 해제 완료: /content/skin_data\n"
          ]
        },
        {
          "output_type": "stream",
          "name": "stderr",
          "text": [
            "<ipython-input-33-2212522093>:3: DtypeWarning: Columns (8,13,14,15,16,17,18,19,20,21,22,23,24,25,26,27) have mixed types. Specify dtype option on import or set low_memory=False.\n",
            "  df = pd.read_csv(csv_path)\n"
          ]
        },
        {
          "output_type": "stream",
          "name": "stdout",
          "text": [
            "필터링된 리뷰 데이터 수: 648700\n",
            "립/아이/블러셔 리뷰 수 집계:\n",
            "                                         상품명                옵션  리뷰수\n",
            "5694                컬러그램 올인원 오버립 메이커 5 COLOR            02 쿨핑크  948\n",
            "6402                    헉슬리 립밤 리브 비하인드 3g 6종     핀치 오브 스파이스 3g  720\n",
            "3951     [튼입술/찐보습]후르디아 블루베리 하이드레이팅 허니 립밤10ml   후르디아 블루베리 허니 립밤  700\n",
            "3251                       [비건인증]히말라야 립밤 10g    [히말라야] 오리지널 립밤  558\n",
            "2919   [립마스크/립밤/스틱] 에뛰드 진저슈가 오버나이트 립마스크 외 3종     (단독)립 마스크 15g  549\n",
            "...                                      ...               ...  ...\n",
            "196                                  MAC 립스틱               모란지    1\n",
            "6139                   페리페라 워터 베어 틴트 3.7g 9종     [NEW] 17 로지붐업    1\n",
            "6138                   페리페라 워터 베어 틴트 3.7g 9종     [NEW] 15 핑쿨거래    1\n",
            "210                                  MAC 립스틱             캔디 얌얌    1\n",
            "1977  [NEW출시] 데이지크 츄잉 글로우팟 20종 중 택 1 (단품/기획)    [단품] 06 구아바 캔디    1\n",
            "\n",
            "[6511 rows x 3 columns]\n",
            "전체 파이프라인 실행 및 모든 데이터 저장 완료\n"
          ]
        }
      ]
    },
    {
      "cell_type": "code",
      "source": [],
      "metadata": {
        "id": "CCESNEQ7u5Jg"
      },
      "execution_count": null,
      "outputs": []
    }
  ]
}