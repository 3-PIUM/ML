{
 "cells": [
  {
   "cell_type": "markdown",
   "id": "c3072962",
   "metadata": {},
   "source": [
    "## 바코드 생성!"
   ]
  },
  {
   "cell_type": "code",
   "execution_count": 1,
   "id": "7aa39481",
   "metadata": {},
   "outputs": [
    {
     "name": "stdout",
     "output_type": "stream",
     "text": [
      "Collecting barcode\n",
      "  Downloading barcode-1.0.4.tar.gz (4.6 kB)\n",
      "  Preparing metadata (setup.py) ... \u001b[?25ldone\n",
      "\u001b[?25hCollecting python-Levenshtein>=0.12.0 (from barcode)\n",
      "  Downloading python_levenshtein-0.27.1-py3-none-any.whl.metadata (3.7 kB)\n",
      "Collecting Levenshtein==0.27.1 (from python-Levenshtein>=0.12.0->barcode)\n",
      "  Downloading levenshtein-0.27.1-cp312-cp312-macosx_11_0_arm64.whl.metadata (3.6 kB)\n",
      "Requirement already satisfied: rapidfuzz<4.0.0,>=3.9.0 in /opt/anaconda3/lib/python3.12/site-packages (from Levenshtein==0.27.1->python-Levenshtein>=0.12.0->barcode) (3.13.0)\n",
      "Downloading python_levenshtein-0.27.1-py3-none-any.whl (9.4 kB)\n",
      "Downloading levenshtein-0.27.1-cp312-cp312-macosx_11_0_arm64.whl (156 kB)\n",
      "Building wheels for collected packages: barcode\n",
      "  Building wheel for barcode (setup.py) ... \u001b[?25ldone\n",
      "\u001b[?25h  Created wheel for barcode: filename=barcode-1.0.4-py3-none-any.whl size=5432 sha256=2785f12523ecb1590b99f46d15f67567dd0fdf3007d85c709669d6586ffe55fa\n",
      "  Stored in directory: /Users/sein/Library/Caches/pip/wheels/a0/1a/d1/787c71126cbf639a71564bed0f12b734147967647fa0076556\n",
      "Successfully built barcode\n",
      "Installing collected packages: Levenshtein, python-Levenshtein, barcode\n",
      "Successfully installed Levenshtein-0.27.1 barcode-1.0.4 python-Levenshtein-0.27.1\n",
      "Note: you may need to restart the kernel to use updated packages.\n"
     ]
    }
   ],
   "source": [
    "pip install barcode"
   ]
  },
  {
   "cell_type": "code",
   "execution_count": 8,
   "id": "8a182b34",
   "metadata": {},
   "outputs": [
    {
     "name": "stdout",
     "output_type": "stream",
     "text": [
      "Collecting python-barcode\n",
      "  Downloading python_barcode-0.15.1-py3-none-any.whl.metadata (2.3 kB)\n",
      "Downloading python_barcode-0.15.1-py3-none-any.whl (212 kB)\n",
      "Installing collected packages: python-barcode\n",
      "Successfully installed python-barcode-0.15.1\n",
      "Note: you may need to restart the kernel to use updated packages.\n"
     ]
    }
   ],
   "source": [
    "pip install python-barcode"
   ]
  },
  {
   "cell_type": "code",
   "execution_count": 1,
   "id": "259f8174",
   "metadata": {},
   "outputs": [],
   "source": [
    "import barcode\n",
    "from barcode.writer import ImageWriter\n",
    "from IPython.display import Image, display"
   ]
  },
  {
   "cell_type": "code",
   "execution_count": 4,
   "id": "e5e0aae7",
   "metadata": {},
   "outputs": [
    {
     "data": {
      "image/png": "[encoded data removed]",
      "text/plain": [
       "<IPython.core.display.Image object>"
      ]
     },
     "metadata": {},
     "output_type": "display_data"
    }
   ],
   "source": [
    "barcode_number = '9787123456789012'\n",
    "\n",
    "barcode_image = barcode.get('isbn13',barcode_number, writer=ImageWriter())\n",
    "\n",
    "barcode_filename = 'test_barcode_image'\n",
    "barcode_image.save(barcode_filename)\n",
    "\n",
    "display(Image(filename=f'{barcode_filename}.png'))"
   ]
  },
  {
   "cell_type": "code",
   "execution_count": null,
   "id": "e43dd2d6",
   "metadata": {},
   "outputs": [],
   "source": []
  }
 ],
 "metadata": {
  "kernelspec": {
   "display_name": "base",
   "language": "python",
   "name": "python3"
  },
  "language_info": {
   "codemirror_mode": {
    "name": "ipython",
    "version": 3
   },
   "file_extension": ".py",
   "mimetype": "text/x-python",
   "name": "python",
   "nbconvert_exporter": "python",
   "pygments_lexer": "ipython3",
   "version": "3.12.7"
  }
 },
 "nbformat": 4,
 "nbformat_minor": 5
}
