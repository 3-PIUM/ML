{
 "cells": [
  {
   "cell_type": "code",
   "execution_count": null,
   "metadata": {},
   "outputs": [],
   "source": [
    "!pip install langchain chromadb sentence-transformers\n",
    "!pip install -U langchain-community\n",
    "!pip install -U langchain-huggingface\n",
    "!pip install tf-keras\n",
    "!pip install langdetect"
   ]
  },
  {
   "cell_type": "code",
   "execution_count": null,
   "metadata": {},
   "outputs": [],
   "source": [
    "import pandas as pd\n",
    "from langchain.schema import Document\n",
    "from langchain.vectorstores import Chroma\n",
    "from langchain.embeddings import HuggingFaceEmbeddings\n",
    "from langchain_huggingface import HuggingFaceEmbeddings\n",
    "\n",
    "from huggingface_hub import login\n",
    "\n",
    "# 복사한 토큰을 여기에 붙여넣기\n",
    "login(token=\"****************\")"
   ]
  },
  {
   "cell_type": "code",
   "execution_count": null,
   "metadata": {},
   "outputs": [],
   "source": [
    "csv_path = \"/content/클렌징_RAG_데이터.csv\"  # 파일 경로 수정"
   ]
  },
  {
   "cell_type": "code",
   "execution_count": null,
   "metadata": {},
   "outputs": [],
   "source": [
    "# ✅ 4. 데이터 불러오기\n",
    "df = pd.read_csv(csv_path)\n",
    "df = df.dropna(subset=[\"상품명\", \"피부타입\", \"리뷰내용\", \"품목\"])  # 필수 컬럼 필터링"
   ]
  },
  {
   "cell_type": "markdown",
   "metadata": {},
   "source": [
    "# 메타데이터 추가"
   ]
  },
  {
   "cell_type": "code",
   "execution_count": null,
   "metadata": {},
   "outputs": [],
   "source": [
    "from textwrap import wrap\n",
    "from langchain.schema import Document\n",
    "\n",
    "documents = []\n",
    "\n",
    "for idx, row in df.iterrows():\n",
    "    review = str(row[\"리뷰내용\"]).strip()\n",
    "    product = str(row[\"상품명\"]).strip()\n",
    "    skin_type = str(row[\"피부타입\"]).strip()\n",
    "    category = str(row[\"품목\"]).strip()\n",
    "    ingredients = str(row.get(\"성분\", \"\")).strip()\n",
    "    barcode = str(row.get(\"바코드\", \"\")).strip()\n",
    "\n",
    "    vegan_flag = row.get(\"비건품목\", None)\n",
    "    if pd.isna(vegan_flag):\n",
    "        vegan_label = \"정보 없음\"\n",
    "    elif int(vegan_flag) == 1:\n",
    "        vegan_label = \"비건\"\n",
    "    else:\n",
    "        vegan_label = \"논비건\"\n",
    "\n",
    "    chunks = wrap(review, 400)\n",
    "\n",
    "    for i, chunk in enumerate(chunks):\n",
    "        doc = Document(\n",
    "            page_content=chunk,\n",
    "            metadata={\n",
    "                \"product\": product,\n",
    "                \"skin_type\": skin_type,\n",
    "                \"category\": category,\n",
    "                \"ingredients\": ingredients,\n",
    "                \"barcode\": barcode,\n",
    "                \"review_id\": f\"{product}_{idx}\",\n",
    "                \"chunk_id\": i,\n",
    "                \"vegan\": vegan_label\n",
    "            }\n",
    "        )\n",
    "        documents.append(doc)\n"
   ]
  },
  {
   "cell_type": "code",
   "execution_count": null,
   "metadata": {},
   "outputs": [],
   "source": [
    "from langchain.embeddings import HuggingFaceEmbeddings\n",
    "\n",
    "embedding_model = HuggingFaceEmbeddings(\n",
    "    model_name=\"sentence-transformers/paraphrase-multilingual-MiniLM-L12-v2\"\n",
    ")\n"
   ]
  },
  {
   "cell_type": "code",
   "execution_count": null,
   "metadata": {},
   "outputs": [],
   "source": [
    "from langchain.vectorstores import Chroma\n",
    "\n",
    "vectorstore = Chroma.from_documents(\n",
    "    documents=documents,\n",
    "    embedding=embedding_model,\n",
    "    persist_directory=\"chroma_multilingual\"\n",
    ")\n"
   ]
  },
  {
   "cell_type": "code",
   "execution_count": null,
   "metadata": {},
   "outputs": [],
   "source": []
  }
 ],
 "metadata": {
  "language_info": {
   "name": "python"
  }
 },
 "nbformat": 4,
 "nbformat_minor": 2
}
